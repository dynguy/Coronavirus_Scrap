{
 "cells": [
  {
   "cell_type": "code",
   "execution_count": 3,
   "metadata": {
    "pycharm": {
     "is_executing": true
    }
   },
   "outputs": [],
   "source": [
    "# Modules needed\n",
    "import requests\n",
    "from bs4 import BeautifulSoup\n",
    "import numpy as np\n",
    "import matplotlib.pyplot as plt\n",
    "import pandas as pd\n"
   ]
  },
  {
   "cell_type": "code",
   "execution_count": 40,
   "metadata": {},
   "outputs": [],
   "source": [
    "def webscrape():\n",
    "    \"\"\"Webscrapes the worldometers website for coronavirus statistics and saves information into textfile\"\"\"\n",
    "    url = 'https://www.worldometers.info/coronavirus/countries-where-coronavirus-has-spread/'\n",
    "\n",
    "    # gets the url's html\n",
    "    page_content = requests.get(url)\n",
    "    soup = BeautifulSoup(page_content.text, 'html.parser')\n",
    "\n",
    "    web_data = []\n",
    "    df = pd.DataFrame()\n",
    "    \n",
    "    \n",
    "    # soup.find_all('td') will scrape all elements in the url's table elements\n",
    "    data_iterator = iter(soup.find_all('td'))\n",
    "\n",
    "    # Loop that repeats until there is no data left available for the iterator\n",
    "    while True:\n",
    "        try:\n",
    "            country = next(data_iterator).text\n",
    "            confirmed = next(data_iterator).text\n",
    "            deaths = next(data_iterator).text\n",
    "            continent = next(data_iterator).text\n",
    "            \n",
    "            new_row = {'country':country, 'confirmed':confirmed, 'deaths':deaths}\n",
    "            print(new_row)\n",
    "            # Replaces spaces with underscores in country and continent names to help with saving file content later\n",
    "            country = country.replace(' ', '_')\n",
    "            continent = continent.replace(' ', '_')\n",
    "            # This just adds stats into the list while also replacing the confirmed and deaths into ints\n",
    "            # NOTE: This creates a list of tuples\n",
    "            df.append(new_row,ignore_index=False)\n",
    "            \n",
    "            web_data.append((country,\n",
    "                             int(confirmed.replace(',', '')),  # This allows for numbers in millions\n",
    "                             int(deaths.replace(',', '')),\n",
    "                             continent\n",
    "                             ))\n",
    "\n",
    "        # StopIteration error occurs when there are no more elements to iterate through\n",
    "        except StopIteration:\n",
    "            break\n",
    "    \n",
    "    \n",
    "    #  Sorts the data by number of confirmed cases\n",
    "    web_data.sort(key=lambda row: row[1], reverse=True)\n",
    "#     df.sort(key=lambda row: row[1], reverse=True)\n",
    "    f = open('webscrape_data.txt', 'w')\n",
    "    for tuple_unit in web_data:\n",
    "        f.write(''.join(str(s) + ' ' for s in tuple_unit) + ' \\n')\n",
    "    print(df.head())\n",
    "    f.close()\n",
    "    \n",
    "    return df"
   ]
  },
  {
   "cell_type": "code",
   "execution_count": 41,
   "metadata": {},
   "outputs": [
    {
     "data": {
      "text/html": [
       "<div>\n",
       "<style scoped>\n",
       "    .dataframe tbody tr th:only-of-type {\n",
       "        vertical-align: middle;\n",
       "    }\n",
       "\n",
       "    .dataframe tbody tr th {\n",
       "        vertical-align: top;\n",
       "    }\n",
       "\n",
       "    .dataframe thead th {\n",
       "        text-align: right;\n",
       "    }\n",
       "</style>\n",
       "<table border=\"1\" class=\"dataframe\">\n",
       "  <thead>\n",
       "    <tr style=\"text-align: right;\">\n",
       "      <th></th>\n",
       "      <th></th>\n",
       "      <th>Country</th>\n",
       "      <th>Total Cases</th>\n",
       "      <th>Total Deaths</th>\n",
       "      <th>Continent</th>\n",
       "    </tr>\n",
       "  </thead>\n",
       "  <tbody>\n",
       "    <tr>\n",
       "      <th>United_States</th>\n",
       "      <th>34542349</th>\n",
       "      <td>620208</td>\n",
       "      <td>North_America</td>\n",
       "      <td>NaN</td>\n",
       "      <td>NaN</td>\n",
       "    </tr>\n",
       "    <tr>\n",
       "      <th>India</th>\n",
       "      <th>30410577</th>\n",
       "      <td>399475</td>\n",
       "      <td>Asia</td>\n",
       "      <td>NaN</td>\n",
       "      <td>NaN</td>\n",
       "    </tr>\n",
       "    <tr>\n",
       "      <th>Brazil</th>\n",
       "      <th>18559164</th>\n",
       "      <td>518246</td>\n",
       "      <td>South_America</td>\n",
       "      <td>NaN</td>\n",
       "      <td>NaN</td>\n",
       "    </tr>\n",
       "    <tr>\n",
       "      <th>France</th>\n",
       "      <th>5775301</th>\n",
       "      <td>111082</td>\n",
       "      <td>Europe</td>\n",
       "      <td>NaN</td>\n",
       "      <td>NaN</td>\n",
       "    </tr>\n",
       "    <tr>\n",
       "      <th>Russia</th>\n",
       "      <th>5514599</th>\n",
       "      <td>135214</td>\n",
       "      <td>Europe</td>\n",
       "      <td>NaN</td>\n",
       "      <td>NaN</td>\n",
       "    </tr>\n",
       "    <tr>\n",
       "      <th>...</th>\n",
       "      <th>...</th>\n",
       "      <td>...</td>\n",
       "      <td>...</td>\n",
       "      <td>...</td>\n",
       "      <td>...</td>\n",
       "    </tr>\n",
       "    <tr>\n",
       "      <th>Vanuatu</th>\n",
       "      <th>4</th>\n",
       "      <td>1</td>\n",
       "      <td>Australia/Oceania</td>\n",
       "      <td>NaN</td>\n",
       "      <td>NaN</td>\n",
       "    </tr>\n",
       "    <tr>\n",
       "      <th>Marshall_Islands</th>\n",
       "      <th>4</th>\n",
       "      <td>0</td>\n",
       "      <td>Australia/Oceania</td>\n",
       "      <td>NaN</td>\n",
       "      <td>NaN</td>\n",
       "    </tr>\n",
       "    <tr>\n",
       "      <th>Samoa</th>\n",
       "      <th>3</th>\n",
       "      <td>0</td>\n",
       "      <td>Australia/Oceania</td>\n",
       "      <td>NaN</td>\n",
       "      <td>NaN</td>\n",
       "    </tr>\n",
       "    <tr>\n",
       "      <th>Saint_Helena</th>\n",
       "      <th>2</th>\n",
       "      <td>0</td>\n",
       "      <td>Africa</td>\n",
       "      <td>NaN</td>\n",
       "      <td>NaN</td>\n",
       "    </tr>\n",
       "    <tr>\n",
       "      <th>Micronesia</th>\n",
       "      <th>1</th>\n",
       "      <td>0</td>\n",
       "      <td>Australia/Oceania</td>\n",
       "      <td>NaN</td>\n",
       "      <td>NaN</td>\n",
       "    </tr>\n",
       "  </tbody>\n",
       "</table>\n",
       "<p>221 rows × 4 columns</p>\n",
       "</div>"
      ],
      "text/plain": [
       "                           Country        Total Cases  Total Deaths  Continent\n",
       "United_States    34542349   620208      North_America           NaN        NaN\n",
       "India            30410577   399475               Asia           NaN        NaN\n",
       "Brazil           18559164   518246      South_America           NaN        NaN\n",
       "France           5775301    111082             Europe           NaN        NaN\n",
       "Russia           5514599    135214             Europe           NaN        NaN\n",
       "...                            ...                ...           ...        ...\n",
       "Vanuatu          4               1  Australia/Oceania           NaN        NaN\n",
       "Marshall_Islands 4               0  Australia/Oceania           NaN        NaN\n",
       "Samoa            3               0  Australia/Oceania           NaN        NaN\n",
       "Saint_Helena     2               0             Africa           NaN        NaN\n",
       "Micronesia       1               0  Australia/Oceania           NaN        NaN\n",
       "\n",
       "[221 rows x 4 columns]"
      ]
     },
     "execution_count": 41,
     "metadata": {},
     "output_type": "execute_result"
    }
   ],
   "source": [
    "df = 0\n",
    "df = pd.read_csv('webscrape_data.txt', sep = ' ', encoding='latin-1', names=['Country','Total Cases', 'Total Deaths', 'Continent'])\n",
    "df"
   ]
  },
  {
   "cell_type": "code",
   "execution_count": 42,
   "metadata": {},
   "outputs": [
    {
     "name": "stdout",
     "output_type": "stream",
     "text": [
      "{'country': 'United States', 'confirmed': '34,542,349', 'deaths': '620,208'}\n"
     ]
    },
    {
     "ename": "TypeError",
     "evalue": "Can only append a dict if ignore_index=True",
     "output_type": "error",
     "traceback": [
      "\u001B[1;31m---------------------------------------------------------------------------\u001B[0m",
      "\u001B[1;31mTypeError\u001B[0m                                 Traceback (most recent call last)",
      "\u001B[1;32m<ipython-input-42-25327c845e61>\u001B[0m in \u001B[0;36m<module>\u001B[1;34m\u001B[0m\n\u001B[1;32m----> 1\u001B[1;33m \u001B[0mtemp\u001B[0m \u001B[1;33m=\u001B[0m \u001B[0mwebscrape\u001B[0m\u001B[1;33m(\u001B[0m\u001B[1;33m)\u001B[0m\u001B[1;33m\u001B[0m\u001B[0m\n\u001B[0m",
      "\u001B[1;32m<ipython-input-40-c3b9e5967b98>\u001B[0m in \u001B[0;36mwebscrape\u001B[1;34m()\u001B[0m\n\u001B[0;32m     29\u001B[0m             \u001B[1;31m# This just adds stats into the list while also replacing the confirmed and deaths into ints\u001B[0m\u001B[1;33m\u001B[0m\u001B[1;33m\u001B[0m\u001B[0m\n\u001B[0;32m     30\u001B[0m             \u001B[1;31m# NOTE: This creates a list of tuples\u001B[0m\u001B[1;33m\u001B[0m\u001B[1;33m\u001B[0m\u001B[0m\n\u001B[1;32m---> 31\u001B[1;33m             \u001B[0mdf\u001B[0m\u001B[1;33m.\u001B[0m\u001B[0mappend\u001B[0m\u001B[1;33m(\u001B[0m\u001B[0mnew_row\u001B[0m\u001B[1;33m,\u001B[0m\u001B[0mignore_index\u001B[0m\u001B[1;33m=\u001B[0m\u001B[1;32mFalse\u001B[0m\u001B[1;33m)\u001B[0m\u001B[1;33m\u001B[0m\u001B[0m\n\u001B[0m\u001B[0;32m     32\u001B[0m \u001B[1;33m\u001B[0m\u001B[0m\n\u001B[0;32m     33\u001B[0m             web_data.append((country,\n",
      "\u001B[1;32mc:\\users\\dylan's\\appdata\\local\\programs\\python\\python37\\lib\\site-packages\\pandas\\core\\frame.py\u001B[0m in \u001B[0;36mappend\u001B[1;34m(self, other, ignore_index, verify_integrity, sort)\u001B[0m\n\u001B[0;32m   7709\u001B[0m             \u001B[1;32mif\u001B[0m \u001B[0misinstance\u001B[0m\u001B[1;33m(\u001B[0m\u001B[0mother\u001B[0m\u001B[1;33m,\u001B[0m \u001B[0mdict\u001B[0m\u001B[1;33m)\u001B[0m\u001B[1;33m:\u001B[0m\u001B[1;33m\u001B[0m\u001B[0m\n\u001B[0;32m   7710\u001B[0m                 \u001B[1;32mif\u001B[0m \u001B[1;32mnot\u001B[0m \u001B[0mignore_index\u001B[0m\u001B[1;33m:\u001B[0m\u001B[1;33m\u001B[0m\u001B[0m\n\u001B[1;32m-> 7711\u001B[1;33m                     \u001B[1;32mraise\u001B[0m \u001B[0mTypeError\u001B[0m\u001B[1;33m(\u001B[0m\u001B[1;34m\"Can only append a dict if ignore_index=True\"\u001B[0m\u001B[1;33m)\u001B[0m\u001B[1;33m\u001B[0m\u001B[0m\n\u001B[0m\u001B[0;32m   7712\u001B[0m                 \u001B[0mother\u001B[0m \u001B[1;33m=\u001B[0m \u001B[0mSeries\u001B[0m\u001B[1;33m(\u001B[0m\u001B[0mother\u001B[0m\u001B[1;33m)\u001B[0m\u001B[1;33m\u001B[0m\u001B[0m\n\u001B[0;32m   7713\u001B[0m             \u001B[1;32mif\u001B[0m \u001B[0mother\u001B[0m\u001B[1;33m.\u001B[0m\u001B[0mname\u001B[0m \u001B[1;32mis\u001B[0m \u001B[1;32mNone\u001B[0m \u001B[1;32mand\u001B[0m \u001B[1;32mnot\u001B[0m \u001B[0mignore_index\u001B[0m\u001B[1;33m:\u001B[0m\u001B[1;33m\u001B[0m\u001B[0m\n",
      "\u001B[1;31mTypeError\u001B[0m: Can only append a dict if ignore_index=True"
     ]
    }
   ],
   "source": [
    "temp = webscrape()"
   ]
  },
  {
   "cell_type": "code",
   "execution_count": 33,
   "metadata": {},
   "outputs": [
    {
     "data": {
      "text/html": [
       "<div>\n",
       "<style scoped>\n",
       "    .dataframe tbody tr th:only-of-type {\n",
       "        vertical-align: middle;\n",
       "    }\n",
       "\n",
       "    .dataframe tbody tr th {\n",
       "        vertical-align: top;\n",
       "    }\n",
       "\n",
       "    .dataframe thead th {\n",
       "        text-align: right;\n",
       "    }\n",
       "</style>\n",
       "<table border=\"1\" class=\"dataframe\">\n",
       "  <thead>\n",
       "    <tr style=\"text-align: right;\">\n",
       "      <th></th>\n",
       "    </tr>\n",
       "  </thead>\n",
       "  <tbody>\n",
       "  </tbody>\n",
       "</table>\n",
       "</div>"
      ],
      "text/plain": [
       "Empty DataFrame\n",
       "Columns: []\n",
       "Index: []"
      ]
     },
     "execution_count": 33,
     "metadata": {},
     "output_type": "execute_result"
    }
   ],
   "source": [
    "temp.head()"
   ]
  },
  {
   "cell_type": "code",
   "execution_count": null,
   "metadata": {},
   "outputs": [],
   "source": []
  }
 ],
 "metadata": {
  "kernelspec": {
   "display_name": "Python 3",
   "language": "python",
   "name": "python3"
  },
  "language_info": {
   "codemirror_mode": {
    "name": "ipython",
    "version": 3
   },
   "file_extension": ".py",
   "mimetype": "text/x-python",
   "name": "python",
   "nbconvert_exporter": "python",
   "pygments_lexer": "ipython3",
   "version": "3.7.0"
  }
 },
 "nbformat": 4,
 "nbformat_minor": 1
}