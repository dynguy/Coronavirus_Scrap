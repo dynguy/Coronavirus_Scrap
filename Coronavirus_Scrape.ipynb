{
 "cells": [
  {
   "cell_type": "markdown",
   "metadata": {},
   "source": [
    "# <center>Coronavirus_Scrape</center>\n",
    "## <center>Personal Project</center>\n",
    "<center>Dylan Nguyen</center>\n",
    "\n",
    "<img src=\"https://i.guim.co.uk/img/media/4fe61c49f0423809aedfeffe4f273352e31a7ef0/592_522_3856_2315/master/3856.jpg?width=1200&height=1200&quality=85&auto=format&fit=crop&s=e8f7981f218f014e81c0de1daaf55654\" width=\"500\"/>\n",
    "<center><a href=\"https://www.theguardian.com/world/2020/apr/28/face-masks-coveted-commodity-coronavirus-pandemic\">Image from Guardian</a>\n",
    "</center>\n",
    "\n",
    "<br>\n",
    "\n",
    "\n",
    "I picked up this project again after learning a lot of new libraries and modules from my introductory data science course at University of Maryland! Going through this project again in a new perspective also helped me with updating my Discord bot that would be able to do all the functionality of this project as well! \n",
    "<br>\n",
    "\n",
    "I use this [Website](https://www.worldometers.info/coronavirus/countries-where-coronavirus-has-spread/) to get the statistics used in this project.\n",
    "\n"
   ]
  },
  {
   "cell_type": "markdown",
   "metadata": {},
   "source": [
    "<hr>\n",
    "Setup"
   ]
  },
  {
   "cell_type": "code",
   "execution_count": 90,
   "metadata": {
    "pycharm": {
     "is_executing": true
    }
   },
   "outputs": [],
   "source": [
    "# Modules needed\n",
    "import requests\n",
    "from bs4 import BeautifulSoup\n",
    "import numpy as np\n",
    "import matplotlib.pyplot as plt\n",
    "import pandas as pd\n",
    "import seaborn as sns\n",
    "\n",
    "# Used to complete autocomplete in Jupyter Notebook\n",
    "%config Completer.use_jedi = False\n",
    "\n"
   ]
  },
  {
   "cell_type": "markdown",
   "metadata": {},
   "source": [
    "Original function created in summer 2020 that was used to save data into a local text file"
   ]
  },
  {
   "cell_type": "code",
   "execution_count": 91,
   "metadata": {},
   "outputs": [],
   "source": [
    "def webscrape_to_textfile():\n",
    "    \"\"\"Webscrapes the worldometers website for coronavirus statistics and saves information into textfile\"\"\"\n",
    "    url = 'https://www.worldometers.info/coronavirus/countries-where-coronavirus-has-spread/'\n",
    "\n",
    "    # gets the url's html\n",
    "    page_content = requests.get(url)\n",
    "    soup = BeautifulSoup(page_content.text, 'html.parser')\n",
    "\n",
    "    web_data = []\n",
    "    df = pd.DataFrame()\n",
    "    \n",
    "    \n",
    "    # soup.find_all('td') will scrape all elements in the url's table elements\n",
    "    data_iterator = iter(soup.find_all('td'))\n",
    "\n",
    "    # Loop that repeats until there is no data left available for the iterator\n",
    "    while True:\n",
    "        try:\n",
    "            country = next(data_iterator).text\n",
    "            confirmed = next(data_iterator).text\n",
    "            deaths = next(data_iterator).text\n",
    "            continent = next(data_iterator).text\n",
    "            \n",
    "            new_row = {'country':country, 'confirmed':confirmed, 'deaths':deaths}\n",
    "            print(new_row)\n",
    "            # Replaces spaces with underscores in country and continent names to help with saving file content later\n",
    "            country = country.replace(' ', '_')\n",
    "            continent = continent.replace(' ', '_')\n",
    "            # This just adds stats into the list while also replacing the confirmed and deaths into ints\n",
    "            # NOTE: This creates a list of tuples\n",
    "            df.append(new_row,ignore_index=True)\n",
    "            \n",
    "            web_data.append((country,\n",
    "                             int(confirmed.replace(',', '')),  # This allows for numbers in millions\n",
    "                             int(deaths.replace(',', '')),\n",
    "                             continent\n",
    "                             ))\n",
    "\n",
    "        # StopIteration error occurs when there are no more elements to iterate through\n",
    "        except StopIteration:\n",
    "            break\n",
    "    \n",
    "    \n",
    "    #  Sorts the data by number of confirmed cases\n",
    "    web_data.sort(key=lambda row: row[1], reverse=True)\n",
    "#     df.sort(key=lambda row: row[1], reverse=True)\n",
    "    f = open('webscrape_data.txt', 'w')\n",
    "    for tuple_unit in web_data:\n",
    "        f.write(''.join(str(s) + ' ' for s in tuple_unit) + ' \\n')\n",
    "    print(df.head())\n",
    "    f.close()\n",
    "    \n",
    "    return df"
   ]
  },
  {
   "cell_type": "markdown",
   "metadata": {},
   "source": [
    "New function created in summer 2021 to save data into a Pandas dataframe which allows users to save data to a local csv file. "
   ]
  },
  {
   "cell_type": "code",
   "execution_count": 92,
   "metadata": {},
   "outputs": [],
   "source": [
    "def webscrape_to_df():\n",
    "    \"\"\"Webscrapes the worldometers website for coronavirus statistics and saves information into textfile\"\"\"\n",
    "    url = 'https://www.worldometers.info/coronavirus/countries-where-coronavirus-has-spread/'\n",
    "\n",
    "    # gets the url's html\n",
    "    page_content = requests.get(url)\n",
    "    soup = BeautifulSoup(page_content.text, 'html.parser')\n",
    "\n",
    "    df = pd.DataFrame()\n",
    "    result = []\n",
    "    \n",
    "    # soup.find_all('td') will scrape all elements in the url's table elements\n",
    "    data_iterator = iter(soup.find_all('td'))\n",
    "\n",
    "    # Loop that repeats until there is no data left available for the iterator\n",
    "    while True:\n",
    "        try:\n",
    "            country = next(data_iterator).text\n",
    "            confirmed = next(data_iterator).text\n",
    "            deaths = next(data_iterator).text\n",
    "            continent = next(data_iterator).text\n",
    "            \n",
    "            # Replaces spaces with underscores in country and continent names to help with saving file content later\n",
    "            country = country.replace(' ', '_')\n",
    "            continent = continent.replace(' ', '_')\n",
    "            \n",
    "            if continent == '':\n",
    "                print(country)\n",
    "                continent = 'Other'\n",
    "            \n",
    "            # Fixes confirmed and death cases data type\n",
    "            confirmed = confirmed.replace(',', '')\n",
    "            deaths = deaths.replace(',', '')\n",
    "\n",
    "            \n",
    "            new_row = {'Country':country, 'Confirmed Cases':int(confirmed), 'Deaths':int(deaths), 'Continent': continent}\n",
    "            result.append(new_row)\n",
    "\n",
    "\n",
    "        # StopIteration error occurs when there are no more elements to iterate through\n",
    "        except StopIteration:\n",
    "            break\n",
    "            \n",
    "    df = pd.DataFrame(result)           \n",
    "    return df"
   ]
  },
  {
   "cell_type": "code",
   "execution_count": 93,
   "metadata": {},
   "outputs": [
    {
     "name": "stdout",
     "output_type": "stream",
     "text": [
      "MS_Zaandam\n"
     ]
    }
   ],
   "source": [
    "# df.to_csv('data.csv')\n",
    "df = webscrape_to_df()  # Saves data that was webscrapped into data frame\n"
   ]
  },
  {
   "cell_type": "markdown",
   "metadata": {},
   "source": [
    "## Any Missing Data?\n",
    "Code below tells us if there is any missing data in any parts of the dataframe. Hopefully it returns false and we can move forward with analysis!"
   ]
  },
  {
   "cell_type": "code",
   "execution_count": 94,
   "metadata": {},
   "outputs": [
    {
     "data": {
      "text/plain": [
       "False"
      ]
     },
     "execution_count": 94,
     "metadata": {},
     "output_type": "execute_result"
    }
   ],
   "source": [
    "df.isnull().values.any()"
   ]
  },
  {
   "cell_type": "markdown",
   "metadata": {},
   "source": [
    "## Top Ten Countries With The Most Coronavirus Cases"
   ]
  },
  {
   "cell_type": "code",
   "execution_count": 95,
   "metadata": {},
   "outputs": [
    {
     "data": {
      "text/html": [
       "<div>\n",
       "<style scoped>\n",
       "    .dataframe tbody tr th:only-of-type {\n",
       "        vertical-align: middle;\n",
       "    }\n",
       "\n",
       "    .dataframe tbody tr th {\n",
       "        vertical-align: top;\n",
       "    }\n",
       "\n",
       "    .dataframe thead th {\n",
       "        text-align: right;\n",
       "    }\n",
       "</style>\n",
       "<table border=\"1\" class=\"dataframe\">\n",
       "  <thead>\n",
       "    <tr style=\"text-align: right;\">\n",
       "      <th></th>\n",
       "      <th>Country</th>\n",
       "      <th>Confirmed Cases</th>\n",
       "      <th>Deaths</th>\n",
       "      <th>Continent</th>\n",
       "    </tr>\n",
       "  </thead>\n",
       "  <tbody>\n",
       "    <tr>\n",
       "      <th>0</th>\n",
       "      <td>United_States</td>\n",
       "      <td>34557048</td>\n",
       "      <td>620617</td>\n",
       "      <td>North_America</td>\n",
       "    </tr>\n",
       "    <tr>\n",
       "      <th>1</th>\n",
       "      <td>India</td>\n",
       "      <td>30453527</td>\n",
       "      <td>400265</td>\n",
       "      <td>Asia</td>\n",
       "    </tr>\n",
       "    <tr>\n",
       "      <th>2</th>\n",
       "      <td>Brazil</td>\n",
       "      <td>18622304</td>\n",
       "      <td>520095</td>\n",
       "      <td>South_America</td>\n",
       "    </tr>\n",
       "    <tr>\n",
       "      <th>3</th>\n",
       "      <td>France</td>\n",
       "      <td>5777965</td>\n",
       "      <td>111111</td>\n",
       "      <td>Europe</td>\n",
       "    </tr>\n",
       "    <tr>\n",
       "      <th>4</th>\n",
       "      <td>Russia</td>\n",
       "      <td>5538142</td>\n",
       "      <td>135886</td>\n",
       "      <td>Europe</td>\n",
       "    </tr>\n",
       "    <tr>\n",
       "      <th>5</th>\n",
       "      <td>Turkey</td>\n",
       "      <td>5430940</td>\n",
       "      <td>49774</td>\n",
       "      <td>Asia</td>\n",
       "    </tr>\n",
       "    <tr>\n",
       "      <th>6</th>\n",
       "      <td>United_Kingdom</td>\n",
       "      <td>4828463</td>\n",
       "      <td>128162</td>\n",
       "      <td>Europe</td>\n",
       "    </tr>\n",
       "    <tr>\n",
       "      <th>7</th>\n",
       "      <td>Argentina</td>\n",
       "      <td>4491551</td>\n",
       "      <td>94772</td>\n",
       "      <td>South_America</td>\n",
       "    </tr>\n",
       "    <tr>\n",
       "      <th>8</th>\n",
       "      <td>Italy</td>\n",
       "      <td>4260788</td>\n",
       "      <td>127587</td>\n",
       "      <td>Europe</td>\n",
       "    </tr>\n",
       "    <tr>\n",
       "      <th>9</th>\n",
       "      <td>Colombia</td>\n",
       "      <td>4240982</td>\n",
       "      <td>106544</td>\n",
       "      <td>South_America</td>\n",
       "    </tr>\n",
       "  </tbody>\n",
       "</table>\n",
       "</div>"
      ],
      "text/plain": [
       "          Country  Confirmed Cases  Deaths      Continent\n",
       "0   United_States         34557048  620617  North_America\n",
       "1           India         30453527  400265           Asia\n",
       "2          Brazil         18622304  520095  South_America\n",
       "3          France          5777965  111111         Europe\n",
       "4          Russia          5538142  135886         Europe\n",
       "5          Turkey          5430940   49774           Asia\n",
       "6  United_Kingdom          4828463  128162         Europe\n",
       "7       Argentina          4491551   94772  South_America\n",
       "8           Italy          4260788  127587         Europe\n",
       "9        Colombia          4240982  106544  South_America"
      ]
     },
     "execution_count": 95,
     "metadata": {},
     "output_type": "execute_result"
    }
   ],
   "source": [
    "df.head(10)  # prints first 10 rows in data frame"
   ]
  },
  {
   "cell_type": "code",
   "execution_count": 96,
   "metadata": {},
   "outputs": [
    {
     "data": {
      "image/png": "[encoded data removed]",
      "text/plain": [
       "<Figure size 864x576 with 1 Axes>"
      ]
     },
     "metadata": {
      "needs_background": "light"
     },
     "output_type": "display_data"
    }
   ],
   "source": [
    "# Code that creates the bar graph\n",
    "plt.figure(figsize=(12,8))\n",
    "sns.barplot(data=df.head(10), x='Country', y='Confirmed Cases')\n",
    "plt.title(\"Top Ten Countries With The Most Coronavirus Cases\")\n",
    "plt.xlabel(\"Countries\")\n",
    "plt.ylabel(\"Confirmed Cases\")\n",
    "\n",
    "plt.show()"
   ]
  },
  {
   "cell_type": "markdown",
   "metadata": {},
   "source": [
    "## Top Ten Countries With The Least Coronavirus Cases\n",
    "One interesting thing I found is that not all countries are a part of a particular continent. This is especially true for island countries or regions dominated by water."
   ]
  },
  {
   "cell_type": "code",
   "execution_count": 97,
   "metadata": {},
   "outputs": [
    {
     "data": {
      "text/html": [
       "<div>\n",
       "<style scoped>\n",
       "    .dataframe tbody tr th:only-of-type {\n",
       "        vertical-align: middle;\n",
       "    }\n",
       "\n",
       "    .dataframe tbody tr th {\n",
       "        vertical-align: top;\n",
       "    }\n",
       "\n",
       "    .dataframe thead th {\n",
       "        text-align: right;\n",
       "    }\n",
       "</style>\n",
       "<table border=\"1\" class=\"dataframe\">\n",
       "  <thead>\n",
       "    <tr style=\"text-align: right;\">\n",
       "      <th></th>\n",
       "      <th>Country</th>\n",
       "      <th>Confirmed Cases</th>\n",
       "      <th>Deaths</th>\n",
       "      <th>Continent</th>\n",
       "    </tr>\n",
       "  </thead>\n",
       "  <tbody>\n",
       "    <tr>\n",
       "      <th>211</th>\n",
       "      <td>Saint_Pierre_&amp;_Miquelon</td>\n",
       "      <td>26</td>\n",
       "      <td>0</td>\n",
       "      <td>North_America</td>\n",
       "    </tr>\n",
       "    <tr>\n",
       "      <th>212</th>\n",
       "      <td>Montserrat</td>\n",
       "      <td>20</td>\n",
       "      <td>1</td>\n",
       "      <td>North_America</td>\n",
       "    </tr>\n",
       "    <tr>\n",
       "      <th>213</th>\n",
       "      <td>Solomon_Islands</td>\n",
       "      <td>20</td>\n",
       "      <td>0</td>\n",
       "      <td>Australia/Oceania</td>\n",
       "    </tr>\n",
       "    <tr>\n",
       "      <th>214</th>\n",
       "      <td>Western_Sahara</td>\n",
       "      <td>10</td>\n",
       "      <td>1</td>\n",
       "      <td>Africa</td>\n",
       "    </tr>\n",
       "    <tr>\n",
       "      <th>215</th>\n",
       "      <td>MS_Zaandam</td>\n",
       "      <td>9</td>\n",
       "      <td>2</td>\n",
       "      <td>Other</td>\n",
       "    </tr>\n",
       "    <tr>\n",
       "      <th>216</th>\n",
       "      <td>Vanuatu</td>\n",
       "      <td>4</td>\n",
       "      <td>1</td>\n",
       "      <td>Australia/Oceania</td>\n",
       "    </tr>\n",
       "    <tr>\n",
       "      <th>217</th>\n",
       "      <td>Marshall_Islands</td>\n",
       "      <td>4</td>\n",
       "      <td>0</td>\n",
       "      <td>Australia/Oceania</td>\n",
       "    </tr>\n",
       "    <tr>\n",
       "      <th>218</th>\n",
       "      <td>Samoa</td>\n",
       "      <td>3</td>\n",
       "      <td>0</td>\n",
       "      <td>Australia/Oceania</td>\n",
       "    </tr>\n",
       "    <tr>\n",
       "      <th>219</th>\n",
       "      <td>Saint_Helena</td>\n",
       "      <td>2</td>\n",
       "      <td>0</td>\n",
       "      <td>Africa</td>\n",
       "    </tr>\n",
       "    <tr>\n",
       "      <th>220</th>\n",
       "      <td>Micronesia</td>\n",
       "      <td>1</td>\n",
       "      <td>0</td>\n",
       "      <td>Australia/Oceania</td>\n",
       "    </tr>\n",
       "  </tbody>\n",
       "</table>\n",
       "</div>"
      ],
      "text/plain": [
       "                     Country  Confirmed Cases  Deaths          Continent\n",
       "211  Saint_Pierre_&_Miquelon               26       0      North_America\n",
       "212               Montserrat               20       1      North_America\n",
       "213          Solomon_Islands               20       0  Australia/Oceania\n",
       "214           Western_Sahara               10       1             Africa\n",
       "215               MS_Zaandam                9       2              Other\n",
       "216                  Vanuatu                4       1  Australia/Oceania\n",
       "217         Marshall_Islands                4       0  Australia/Oceania\n",
       "218                    Samoa                3       0  Australia/Oceania\n",
       "219             Saint_Helena                2       0             Africa\n",
       "220               Micronesia                1       0  Australia/Oceania"
      ]
     },
     "execution_count": 97,
     "metadata": {},
     "output_type": "execute_result"
    }
   ],
   "source": [
    "df.tail(10)  # prints first 10 rows in data frame"
   ]
  },
  {
   "cell_type": "markdown",
   "metadata": {},
   "source": [
    "## Looking at Confirmed Cases by Continents"
   ]
  },
  {
   "cell_type": "code",
   "execution_count": 98,
   "metadata": {},
   "outputs": [
    {
     "data": {
      "text/html": [
       "<div>\n",
       "<style scoped>\n",
       "    .dataframe tbody tr th:only-of-type {\n",
       "        vertical-align: middle;\n",
       "    }\n",
       "\n",
       "    .dataframe tbody tr th {\n",
       "        vertical-align: top;\n",
       "    }\n",
       "\n",
       "    .dataframe thead th {\n",
       "        text-align: right;\n",
       "    }\n",
       "</style>\n",
       "<table border=\"1\" class=\"dataframe\">\n",
       "  <thead>\n",
       "    <tr style=\"text-align: right;\">\n",
       "      <th></th>\n",
       "      <th>Continent</th>\n",
       "      <th>Confirmed Cases</th>\n",
       "      <th>Deaths</th>\n",
       "    </tr>\n",
       "  </thead>\n",
       "  <tbody>\n",
       "    <tr>\n",
       "      <th>1</th>\n",
       "      <td>Asia</td>\n",
       "      <td>55981002</td>\n",
       "      <td>794106</td>\n",
       "    </tr>\n",
       "    <tr>\n",
       "      <th>3</th>\n",
       "      <td>Europe</td>\n",
       "      <td>48057711</td>\n",
       "      <td>1103739</td>\n",
       "    </tr>\n",
       "    <tr>\n",
       "      <th>4</th>\n",
       "      <td>North_America</td>\n",
       "      <td>40634601</td>\n",
       "      <td>918927</td>\n",
       "    </tr>\n",
       "    <tr>\n",
       "      <th>6</th>\n",
       "      <td>South_America</td>\n",
       "      <td>32998317</td>\n",
       "      <td>1007400</td>\n",
       "    </tr>\n",
       "    <tr>\n",
       "      <th>0</th>\n",
       "      <td>Africa</td>\n",
       "      <td>5594484</td>\n",
       "      <td>144073</td>\n",
       "    </tr>\n",
       "    <tr>\n",
       "      <th>2</th>\n",
       "      <td>Australia/Oceania</td>\n",
       "      <td>74944</td>\n",
       "      <td>1283</td>\n",
       "    </tr>\n",
       "    <tr>\n",
       "      <th>5</th>\n",
       "      <td>Other</td>\n",
       "      <td>9</td>\n",
       "      <td>2</td>\n",
       "    </tr>\n",
       "  </tbody>\n",
       "</table>\n",
       "</div>"
      ],
      "text/plain": [
       "           Continent  Confirmed Cases   Deaths\n",
       "1               Asia         55981002   794106\n",
       "3             Europe         48057711  1103739\n",
       "4      North_America         40634601   918927\n",
       "6      South_America         32998317  1007400\n",
       "0             Africa          5594484   144073\n",
       "2  Australia/Oceania            74944     1283\n",
       "5              Other                9        2"
      ]
     },
     "execution_count": 98,
     "metadata": {},
     "output_type": "execute_result"
    }
   ],
   "source": [
    "confirmed_continental_df = df.groupby(by=[\"Continent\"], dropna=True, sort=True).sum().reset_index().sort_values(by=['Confirmed Cases'],ascending=False)\n",
    "confirmed_continental_df"
   ]
  },
  {
   "cell_type": "code",
   "execution_count": 99,
   "metadata": {
    "scrolled": true
   },
   "outputs": [
    {
     "data": {
      "image/png": "[encoded data removed]",
      "text/plain": [
       "<Figure size 864x576 with 1 Axes>"
      ]
     },
     "metadata": {
      "needs_background": "light"
     },
     "output_type": "display_data"
    }
   ],
   "source": [
    "# Code that creates the bar graph\n",
    "plt.figure(figsize=(12,8))\n",
    "sns.barplot(data=confirmed_continental_df, x='Continent', y='Confirmed Cases')\n",
    "plt.title(\"Continent With The Most Coronavirus Cases\")\n",
    "plt.xlabel(\"Continent\")\n",
    "plt.ylabel(\"Confirmed Cases\")\n",
    "\n",
    "plt.show()"
   ]
  },
  {
   "cell_type": "code",
   "execution_count": 100,
   "metadata": {},
   "outputs": [
    {
     "data": {
      "image/png": "[encoded data removed]",
      "text/plain": [
       "<Figure size 360x360 with 1 Axes>"
      ]
     },
     "metadata": {},
     "output_type": "display_data"
    }
   ],
   "source": [
    "pie_plot = continental_df.plot.pie(y='Confirmed Cases', figsize=(5, 5))"
   ]
  },
  {
   "cell_type": "markdown",
   "metadata": {},
   "source": [
    "## Looking at Death Cases by Continents\n",
    "There are differences between total confirmed cases and total death cases between continents. For example, even though Asia has the most confirmed cases, they are 4th in total deaths."
   ]
  },
  {
   "cell_type": "code",
   "execution_count": 101,
   "metadata": {},
   "outputs": [
    {
     "data": {
      "text/html": [
       "<div>\n",
       "<style scoped>\n",
       "    .dataframe tbody tr th:only-of-type {\n",
       "        vertical-align: middle;\n",
       "    }\n",
       "\n",
       "    .dataframe tbody tr th {\n",
       "        vertical-align: top;\n",
       "    }\n",
       "\n",
       "    .dataframe thead th {\n",
       "        text-align: right;\n",
       "    }\n",
       "</style>\n",
       "<table border=\"1\" class=\"dataframe\">\n",
       "  <thead>\n",
       "    <tr style=\"text-align: right;\">\n",
       "      <th></th>\n",
       "      <th>Continent</th>\n",
       "      <th>Confirmed Cases</th>\n",
       "      <th>Deaths</th>\n",
       "    </tr>\n",
       "  </thead>\n",
       "  <tbody>\n",
       "    <tr>\n",
       "      <th>3</th>\n",
       "      <td>Europe</td>\n",
       "      <td>48057711</td>\n",
       "      <td>1103739</td>\n",
       "    </tr>\n",
       "    <tr>\n",
       "      <th>6</th>\n",
       "      <td>South_America</td>\n",
       "      <td>32998317</td>\n",
       "      <td>1007400</td>\n",
       "    </tr>\n",
       "    <tr>\n",
       "      <th>4</th>\n",
       "      <td>North_America</td>\n",
       "      <td>40634601</td>\n",
       "      <td>918927</td>\n",
       "    </tr>\n",
       "    <tr>\n",
       "      <th>1</th>\n",
       "      <td>Asia</td>\n",
       "      <td>55981002</td>\n",
       "      <td>794106</td>\n",
       "    </tr>\n",
       "    <tr>\n",
       "      <th>0</th>\n",
       "      <td>Africa</td>\n",
       "      <td>5594484</td>\n",
       "      <td>144073</td>\n",
       "    </tr>\n",
       "    <tr>\n",
       "      <th>2</th>\n",
       "      <td>Australia/Oceania</td>\n",
       "      <td>74944</td>\n",
       "      <td>1283</td>\n",
       "    </tr>\n",
       "    <tr>\n",
       "      <th>5</th>\n",
       "      <td>Other</td>\n",
       "      <td>9</td>\n",
       "      <td>2</td>\n",
       "    </tr>\n",
       "  </tbody>\n",
       "</table>\n",
       "</div>"
      ],
      "text/plain": [
       "           Continent  Confirmed Cases   Deaths\n",
       "3             Europe         48057711  1103739\n",
       "6      South_America         32998317  1007400\n",
       "4      North_America         40634601   918927\n",
       "1               Asia         55981002   794106\n",
       "0             Africa          5594484   144073\n",
       "2  Australia/Oceania            74944     1283\n",
       "5              Other                9        2"
      ]
     },
     "execution_count": 101,
     "metadata": {},
     "output_type": "execute_result"
    }
   ],
   "source": [
    "deathcases_continental_df = df.groupby(by=[\"Continent\"], dropna=True, sort=True).sum().reset_index().sort_values(by=['Deaths'],ascending=False)\n",
    "deathcases_continental_df"
   ]
  },
  {
   "cell_type": "code",
   "execution_count": 102,
   "metadata": {},
   "outputs": [
    {
     "data": {
      "image/png": "[encoded data removed]",
      "text/plain": [
       "<Figure size 864x576 with 1 Axes>"
      ]
     },
     "metadata": {
      "needs_background": "light"
     },
     "output_type": "display_data"
    }
   ],
   "source": [
    "# Code that creates the bar graph\n",
    "plt.figure(figsize=(12,8))\n",
    "sns.barplot(data=deathcases_continental_df, x='Continent', y='Deaths')\n",
    "plt.title(\"Death Cases Between Continents\")\n",
    "plt.xlabel(\"Continent\")\n",
    "plt.ylabel(\"Death Cases\")\n",
    "\n",
    "plt.show()"
   ]
  },
  {
   "cell_type": "code",
   "execution_count": 103,
   "metadata": {},
   "outputs": [
    {
     "data": {
      "image/png": "[encoded data removed]",
      "text/plain": [
       "<Figure size 360x360 with 1 Axes>"
      ]
     },
     "metadata": {},
     "output_type": "display_data"
    }
   ],
   "source": [
    "pie_plot = continental_df.plot.pie(y='Deaths', figsize=(5, 5))"
   ]
  }
 ],
 "metadata": {
  "kernelspec": {
   "display_name": "Python 3",
   "language": "python",
   "name": "python3"
  },
  "language_info": {
   "codemirror_mode": {
    "name": "ipython",
    "version": 3
   },
   "file_extension": ".py",
   "mimetype": "text/x-python",
   "name": "python",
   "nbconvert_exporter": "python",
   "pygments_lexer": "ipython3",
   "version": "3.7.0"
  }
 },
 "nbformat": 4,
 "nbformat_minor": 1
}